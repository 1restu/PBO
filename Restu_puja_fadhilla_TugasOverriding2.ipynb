{
  "nbformat": 4,
  "nbformat_minor": 0,
  "metadata": {
    "colab": {
      "provenance": [],
      "include_colab_link": true
    },
    "kernelspec": {
      "name": "python3",
      "display_name": "Python 3"
    },
    "language_info": {
      "name": "python"
    }
  },
  "cells": [
    {
      "cell_type": "markdown",
      "metadata": {
        "id": "view-in-github",
        "colab_type": "text"
      },
      "source": [
        "<a href=\"https://colab.research.google.com/github/1restu/PBO/blob/main/Restu_puja_fadhilla_TugasOverriding2.ipynb\" target=\"_parent\"><img src=\"https://colab.research.google.com/assets/colab-badge.svg\" alt=\"Open In Colab\"/></a>"
      ]
    },
    {
      "cell_type": "markdown",
      "source": [
        "Anda bekerja sebagai programmer di sebuah supermarket besar. Manajemen supermarket ingin Anda mengembangkan program Python untuk mengelola berbagai jenis produk yang mereka jual di toko mereka. Mereka memiliki kelas dasar **Produk** dengan atribut berikut:\n",
        "\n",
        "*   kode_barang (kode unik produk)\n",
        "*   nama (nama produk)\n",
        "*   harga (harga produk)\n",
        "\n",
        "Selain itu, mereka memiliki dua jenis produk spesifik: **ProdukMakanan** dan **ProdukElektronik**. Produk makanan memiliki atribut tambahan:\n",
        "\n",
        "*   tanggal_kadaluarsa (tanggal kadaluarsa makanan)\n",
        "\n",
        "Sementara Produk elektronik memiliki atribut tambahan:\n",
        "\n",
        "*   garansi (lama garansi dalam bulan)\n",
        "\n",
        "Manajemen supermarket ingin Anda membuat program Python yang memungkinkan mereka untuk mencetak informasi tentang setiap produk, termasuk kode barang, nama, harga, serta atribut tambahan yang sesuai (tanggal kadaluarsa atau lama garansi).\n",
        "\n",
        "Tugas Anda adalah:\n",
        "\n",
        "\n",
        "1.   Membuat kelas Produk dengan atribut kode_barang, nama, dan harga, serta metode deskripsi yang mencetak informasi tentang produk tersebut.\n",
        "2.   Membuat kelas ProdukMakanan yang mewarisi dari kelas Produk dan memiliki atribut tambahan tanggal_kadaluarsa, serta mengimplementasikan metode deskripsi untuk mencetak informasi tentang produk makanan.\n",
        "1.   Membuat kelas ProdukElektronik yang juga mewarisi dari kelas Produk dan memiliki atribut tambahan garansi, serta mengimplementasikan metode deskripsi untuk mencetak informasi tentang produk elektronik.\n",
        "\n",
        "Program Anda harus mendemonstrasikan penggunaan konsep **overriding** dalam Python dalam konteks produk di supermarket.\n",
        "\n",
        "Selamat mengerjakan!\n",
        "\n",
        "\n",
        "\n",
        "\n",
        "\n"
      ],
      "metadata": {
        "id": "Yo0ulCyP2WPG"
      }
    },
    {
      "cell_type": "code",
      "execution_count": 30,
      "metadata": {
        "id": "tG1-g1OW2KSu"
      },
      "outputs": [],
      "source": [
        "class Produk :\n",
        "  def __init__(self,kode_barang,nama,harga):\n",
        "    self.kode_barang = kode_barang\n",
        "    self.nama = nama\n",
        "    self.harga = harga\n",
        "\n",
        "  def Informasi_barang(self):\n",
        "    print(f'Nama produk : {self.nama}, Kode produk :{self.kode_barang}, Harga produk sebesar {self.harga} Rp')"
      ]
    },
    {
      "cell_type": "code",
      "source": [
        "class Produk_Makanan (Produk):\n",
        "  def __init__(self,kode_barang,nama,harga,tanggal_kadaluarsa):\n",
        "    super().__init__(kode_barang,nama,harga)\n",
        "    self.tanggal_kadaluarsa = tanggal_kadaluarsa\n",
        "\n",
        "  def Informasi_barang(self):\n",
        "    super().Informasi_barang()\n",
        "    print(\"Produk Makanan kadaluarsa pada :\", self.tanggal_kadaluarsa)"
      ],
      "metadata": {
        "id": "oy32Lm4m39l0"
      },
      "execution_count": 31,
      "outputs": []
    },
    {
      "cell_type": "code",
      "source": [
        "class Produk_Elektronik (Produk):\n",
        "  def __init__(self,kode_barang,nama,harga,garansi):\n",
        "    super().__init__(kode_barang,nama,harga)\n",
        "    self.garansi = garansi\n",
        "\n",
        "  def Informasi_barang(self):\n",
        "    super().Informasi_barang()\n",
        "    print(\"Produk Elektronik memiliki masa garansi selama\", self.garansi , \"bulan\")"
      ],
      "metadata": {
        "id": "wEgEGwxm4A1y"
      },
      "execution_count": 32,
      "outputs": []
    },
    {
      "cell_type": "code",
      "source": [
        "# Contoh penggunaan masing-masing jenis class produk\n",
        "# produk makanan di sini\n",
        "Pepsi = Produk_Makanan (23142291, 'Pepsi', '18.000', '12 Agustus 3024')\n",
        "\n",
        "# produk elektroni di sini\n",
        "Televisi = Produk_Elektronik (21341536, 'Televisi', '340.000', 8)\n",
        "\n",
        "# Deskripsi produk makanan\n",
        "print(\"Deskripsi Produk Makanan:\")\n",
        "# lengkapi\n",
        "Pepsi.Informasi_barang()\n",
        "# Deskripsi produk elektronik\n",
        "print(\"Deskripsi Produk Elektronik:\")\n",
        "# lengkapi\n",
        "Televisi.Informasi_barang()"
      ],
      "metadata": {
        "id": "noeSP_dw4F4c",
        "colab": {
          "base_uri": "https://localhost:8080/"
        },
        "outputId": "a14a5aac-3285-4d2f-d5d4-c4ba97a65440"
      },
      "execution_count": 33,
      "outputs": [
        {
          "output_type": "stream",
          "name": "stdout",
          "text": [
            "Deskripsi Produk Makanan:\n",
            "Nama produk : Pepsi, Kode produk :23142291, Harga produk sebesar 18.000 Rp\n",
            "Produk Makanan kadaluarsa pada : 12 Agustus 3024\n",
            "Deskripsi Produk Elektronik:\n",
            "Nama produk : Televisi, Kode produk :21341536, Harga produk sebesar 340.000 Rp\n",
            "Produk Elektronik memiliki masa garansi selama 8 bulan\n"
          ]
        }
      ]
    }
  ]
}